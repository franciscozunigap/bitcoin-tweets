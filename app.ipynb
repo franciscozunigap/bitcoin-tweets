{
 "cells": [
  {
   "cell_type": "markdown",
   "id": "067d4f36",
   "metadata": {},
   "source": [
    "# Carga del dataset de tweets con sentimiento"
   ]
  },
  {
   "cell_type": "code",
   "execution_count": null,
   "id": "c9bfa6a3",
   "metadata": {},
   "outputs": [
    {
     "name": "stderr",
     "output_type": "stream",
     "text": [
      "/var/folders/x7/yqjxlcpn6896ntpm60n8wg4r0000gn/T/ipykernel_52846/3501952198.py:7: DeprecationWarning: load_dataset is deprecated and will be removed in a future version.\n",
      "  df_tweets = kagglehub.load_dataset(\n"
     ]
    },
    {
     "name": "stdout",
     "output_type": "stream",
     "text": [
      "         Date                                               text Sentiment\n",
      "0  2019-05-27  È appena uscito un nuovo video! LES CRYPTOMONN...  Positive\n",
      "1  2019-05-27  Cardano: Digitize Currencies; EOS https://t.co...  Positive\n",
      "2  2019-05-27  Another Test tweet that wasn't caught in the s...  Positive\n",
      "3  2019-05-27  Current Crypto Prices! \\n\\nBTC: $8721.99 USD\\n...  Positive\n",
      "4  2019-05-27  Spiv (Nosar Baz): BITCOIN Is An Asset &amp; NO...  Positive\n"
     ]
    }
   ],
   "source": [
    "import kagglehub\n",
    "from kagglehub import KaggleDatasetAdapter\n",
    "\n",
    "file_path = \"mbsa.csv\"  \n",
    "\n",
    "# Load the latest version\n",
    "df_tweets = kagglehub.load_dataset(\n",
    "  KaggleDatasetAdapter.PANDAS,\n",
    "  \"gauravduttakiit/bitcoin-tweets-16m-tweets-with-sentiment-tagged\",\n",
    "  file_path,\n",
    ")\n",
    "print(df_tweets.head())\n"
   ]
  },
  {
   "cell_type": "markdown",
   "id": "5401b05c",
   "metadata": {},
   "source": [
    "# Cargar de dataset de precios de bitcoin"
   ]
  },
  {
   "cell_type": "code",
   "execution_count": null,
   "id": "c26ea70f",
   "metadata": {},
   "outputs": [
    {
     "name": "stderr",
     "output_type": "stream",
     "text": [
      "/var/folders/x7/yqjxlcpn6896ntpm60n8wg4r0000gn/T/ipykernel_52846/2893635251.py:3: DeprecationWarning: load_dataset is deprecated and will be removed in a future version.\n",
      "  df_bitcoin = kagglehub.load_dataset(\n"
     ]
    },
    {
     "name": "stdout",
     "output_type": "stream",
     "text": [
      "             Open time      Open      High       Low     Close      Volume  \\\n",
      "0  2018-01-01 00:00:00  13715.65  13715.65  13400.01  13556.15  123.616013   \n",
      "1  2018-01-01 00:15:00  13533.75  13550.87  13402.00  13521.12   98.136430   \n",
      "2  2018-01-01 00:30:00  13500.00  13545.37  13450.00  13470.41   79.904037   \n",
      "3  2018-01-01 00:45:00  13494.65  13690.87  13450.00  13529.01  141.699719   \n",
      "4  2018-01-01 01:00:00  13528.99  13571.74  13402.28  13445.63   72.537533   \n",
      "\n",
      "                Close time  Quote asset volume  Number of trades  \\\n",
      "0  2018-01-01 00:14:59.999        1.675545e+06              1572   \n",
      "1  2018-01-01 00:29:59.999        1.321757e+06              1461   \n",
      "2  2018-01-01 00:44:59.999        1.078825e+06              1000   \n",
      "3  2018-01-01 00:59:59.999        1.917783e+06              1195   \n",
      "4  2018-01-01 01:14:59.999        9.778198e+05               898   \n",
      "\n",
      "   Taker buy base asset volume  Taker buy quote asset volume  Ignore  \n",
      "0                    63.227133                  8.576108e+05       0  \n",
      "1                    47.686389                  6.422812e+05       0  \n",
      "2                    43.710406                  5.900347e+05       0  \n",
      "3                    73.897993                  1.000614e+06       0  \n",
      "4                    34.257652                  4.618369e+05       0  \n"
     ]
    }
   ],
   "source": [
    "file_path = \"btc_15m_data_2018_to_2025.csv\"  \n",
    "\n",
    "df_bitcoin = kagglehub.load_dataset(\n",
    "  KaggleDatasetAdapter.PANDAS,\n",
    "  \"novandraanugrah/bitcoin-historical-datasets-2018-2024\",\n",
    "  file_path,\n",
    ")\n",
    "\n",
    "print(df_bitcoin.head())\n"
   ]
  },
  {
   "cell_type": "markdown",
   "id": "fc2995da",
   "metadata": {},
   "source": [
    "# Leer filas del dataset de tweets y asignarle el precio segun el dataset de bitcoin"
   ]
  },
  {
   "cell_type": "code",
   "execution_count": 19,
   "id": "4db6bbaf",
   "metadata": {},
   "outputs": [
    {
     "ename": "KeyboardInterrupt",
     "evalue": "",
     "output_type": "error",
     "traceback": [
      "\u001b[0;31m---------------------------------------------------------------------------\u001b[0m",
      "\u001b[0;31mKeyboardInterrupt\u001b[0m                         Traceback (most recent call last)",
      "Cell \u001b[0;32mIn[19], line 8\u001b[0m\n\u001b[1;32m      6\u001b[0m \u001b[38;5;66;03m# Convertir la fecha a formato datetime\u001b[39;00m\n\u001b[1;32m      7\u001b[0m date \u001b[38;5;241m=\u001b[39m date\u001b[38;5;241m.\u001b[39msplit(\u001b[38;5;124m\"\u001b[39m\u001b[38;5;124m \u001b[39m\u001b[38;5;124m\"\u001b[39m)[\u001b[38;5;241m0\u001b[39m]\n\u001b[0;32m----> 8\u001b[0m sentiment \u001b[38;5;241m=\u001b[39m df_tweets[\u001b[43mdf_tweets\u001b[49m\u001b[43m[\u001b[49m\u001b[38;5;124;43m\"\u001b[39;49m\u001b[38;5;124;43mDate\u001b[39;49m\u001b[38;5;124;43m\"\u001b[39;49m\u001b[43m]\u001b[49m\u001b[43m \u001b[49m\u001b[38;5;241;43m==\u001b[39;49m\u001b[43m \u001b[49m\u001b[43mdate\u001b[49m][\u001b[38;5;124m\"\u001b[39m\u001b[38;5;124mSentiment\u001b[39m\u001b[38;5;124m\"\u001b[39m]\u001b[38;5;241m.\u001b[39mvalues\n\u001b[1;32m      9\u001b[0m \u001b[38;5;28;01mif\u001b[39;00m \u001b[38;5;28mlen\u001b[39m(sentiment) \u001b[38;5;241m>\u001b[39m \u001b[38;5;241m0\u001b[39m:\n\u001b[1;32m     10\u001b[0m     df_bitcoin\u001b[38;5;241m.\u001b[39mat[i, \u001b[38;5;124m\"\u001b[39m\u001b[38;5;124msentiment\u001b[39m\u001b[38;5;124m\"\u001b[39m] \u001b[38;5;241m=\u001b[39m sentiment[\u001b[38;5;241m0\u001b[39m]\n",
      "File \u001b[0;32m~/.pyenv/versions/3.10.12/lib/python3.10/site-packages/pandas/core/ops/common.py:76\u001b[0m, in \u001b[0;36m_unpack_zerodim_and_defer.<locals>.new_method\u001b[0;34m(self, other)\u001b[0m\n\u001b[1;32m     72\u001b[0m             \u001b[38;5;28;01mreturn\u001b[39;00m \u001b[38;5;28mNotImplemented\u001b[39m\n\u001b[1;32m     74\u001b[0m other \u001b[38;5;241m=\u001b[39m item_from_zerodim(other)\n\u001b[0;32m---> 76\u001b[0m \u001b[38;5;28;01mreturn\u001b[39;00m \u001b[43mmethod\u001b[49m\u001b[43m(\u001b[49m\u001b[38;5;28;43mself\u001b[39;49m\u001b[43m,\u001b[49m\u001b[43m \u001b[49m\u001b[43mother\u001b[49m\u001b[43m)\u001b[49m\n",
      "File \u001b[0;32m~/.pyenv/versions/3.10.12/lib/python3.10/site-packages/pandas/core/arraylike.py:40\u001b[0m, in \u001b[0;36mOpsMixin.__eq__\u001b[0;34m(self, other)\u001b[0m\n\u001b[1;32m     38\u001b[0m \u001b[38;5;129m@unpack_zerodim_and_defer\u001b[39m(\u001b[38;5;124m\"\u001b[39m\u001b[38;5;124m__eq__\u001b[39m\u001b[38;5;124m\"\u001b[39m)\n\u001b[1;32m     39\u001b[0m \u001b[38;5;28;01mdef\u001b[39;00m\u001b[38;5;250m \u001b[39m\u001b[38;5;21m__eq__\u001b[39m(\u001b[38;5;28mself\u001b[39m, other):\n\u001b[0;32m---> 40\u001b[0m     \u001b[38;5;28;01mreturn\u001b[39;00m \u001b[38;5;28;43mself\u001b[39;49m\u001b[38;5;241;43m.\u001b[39;49m\u001b[43m_cmp_method\u001b[49m\u001b[43m(\u001b[49m\u001b[43mother\u001b[49m\u001b[43m,\u001b[49m\u001b[43m \u001b[49m\u001b[43moperator\u001b[49m\u001b[38;5;241;43m.\u001b[39;49m\u001b[43meq\u001b[49m\u001b[43m)\u001b[49m\n",
      "File \u001b[0;32m~/.pyenv/versions/3.10.12/lib/python3.10/site-packages/pandas/core/series.py:6119\u001b[0m, in \u001b[0;36mSeries._cmp_method\u001b[0;34m(self, other, op)\u001b[0m\n\u001b[1;32m   6116\u001b[0m lvalues \u001b[38;5;241m=\u001b[39m \u001b[38;5;28mself\u001b[39m\u001b[38;5;241m.\u001b[39m_values\n\u001b[1;32m   6117\u001b[0m rvalues \u001b[38;5;241m=\u001b[39m extract_array(other, extract_numpy\u001b[38;5;241m=\u001b[39m\u001b[38;5;28;01mTrue\u001b[39;00m, extract_range\u001b[38;5;241m=\u001b[39m\u001b[38;5;28;01mTrue\u001b[39;00m)\n\u001b[0;32m-> 6119\u001b[0m res_values \u001b[38;5;241m=\u001b[39m \u001b[43mops\u001b[49m\u001b[38;5;241;43m.\u001b[39;49m\u001b[43mcomparison_op\u001b[49m\u001b[43m(\u001b[49m\u001b[43mlvalues\u001b[49m\u001b[43m,\u001b[49m\u001b[43m \u001b[49m\u001b[43mrvalues\u001b[49m\u001b[43m,\u001b[49m\u001b[43m \u001b[49m\u001b[43mop\u001b[49m\u001b[43m)\u001b[49m\n\u001b[1;32m   6121\u001b[0m \u001b[38;5;28;01mreturn\u001b[39;00m \u001b[38;5;28mself\u001b[39m\u001b[38;5;241m.\u001b[39m_construct_result(res_values, name\u001b[38;5;241m=\u001b[39mres_name)\n",
      "File \u001b[0;32m~/.pyenv/versions/3.10.12/lib/python3.10/site-packages/pandas/core/ops/array_ops.py:344\u001b[0m, in \u001b[0;36mcomparison_op\u001b[0;34m(left, right, op)\u001b[0m\n\u001b[1;32m    341\u001b[0m     \u001b[38;5;28;01mreturn\u001b[39;00m invalid_comparison(lvalues, rvalues, op)\n\u001b[1;32m    343\u001b[0m \u001b[38;5;28;01melif\u001b[39;00m lvalues\u001b[38;5;241m.\u001b[39mdtype \u001b[38;5;241m==\u001b[39m \u001b[38;5;28mobject\u001b[39m \u001b[38;5;129;01mor\u001b[39;00m \u001b[38;5;28misinstance\u001b[39m(rvalues, \u001b[38;5;28mstr\u001b[39m):\n\u001b[0;32m--> 344\u001b[0m     res_values \u001b[38;5;241m=\u001b[39m \u001b[43mcomp_method_OBJECT_ARRAY\u001b[49m\u001b[43m(\u001b[49m\u001b[43mop\u001b[49m\u001b[43m,\u001b[49m\u001b[43m \u001b[49m\u001b[43mlvalues\u001b[49m\u001b[43m,\u001b[49m\u001b[43m \u001b[49m\u001b[43mrvalues\u001b[49m\u001b[43m)\u001b[49m\n\u001b[1;32m    346\u001b[0m \u001b[38;5;28;01melse\u001b[39;00m:\n\u001b[1;32m    347\u001b[0m     res_values \u001b[38;5;241m=\u001b[39m _na_arithmetic_op(lvalues, rvalues, op, is_cmp\u001b[38;5;241m=\u001b[39m\u001b[38;5;28;01mTrue\u001b[39;00m)\n",
      "File \u001b[0;32m~/.pyenv/versions/3.10.12/lib/python3.10/site-packages/pandas/core/ops/array_ops.py:129\u001b[0m, in \u001b[0;36mcomp_method_OBJECT_ARRAY\u001b[0;34m(op, x, y)\u001b[0m\n\u001b[1;32m    127\u001b[0m     result \u001b[38;5;241m=\u001b[39m libops\u001b[38;5;241m.\u001b[39mvec_compare(x\u001b[38;5;241m.\u001b[39mravel(), y\u001b[38;5;241m.\u001b[39mravel(), op)\n\u001b[1;32m    128\u001b[0m \u001b[38;5;28;01melse\u001b[39;00m:\n\u001b[0;32m--> 129\u001b[0m     result \u001b[38;5;241m=\u001b[39m \u001b[43mlibops\u001b[49m\u001b[38;5;241;43m.\u001b[39;49m\u001b[43mscalar_compare\u001b[49m\u001b[43m(\u001b[49m\u001b[43mx\u001b[49m\u001b[38;5;241;43m.\u001b[39;49m\u001b[43mravel\u001b[49m\u001b[43m(\u001b[49m\u001b[43m)\u001b[49m\u001b[43m,\u001b[49m\u001b[43m \u001b[49m\u001b[43my\u001b[49m\u001b[43m,\u001b[49m\u001b[43m \u001b[49m\u001b[43mop\u001b[49m\u001b[43m)\u001b[49m\n\u001b[1;32m    130\u001b[0m \u001b[38;5;28;01mreturn\u001b[39;00m result\u001b[38;5;241m.\u001b[39mreshape(x\u001b[38;5;241m.\u001b[39mshape)\n",
      "\u001b[0;31mKeyboardInterrupt\u001b[0m: "
     ]
    }
   ],
   "source": [
    "# Por cada fila en el dataset de bitcoin, se busca la fecha en el dataset de tweets\n",
    "# y se añade la columna de sentimiento al dataset de bitcoin\n",
    "df_bitcoin[\"Sentiment\"] = None\n",
    "for i in range(len(df_bitcoin)):\n",
    "    date = df_bitcoin.iloc[i][\"Open time\"]\n",
    "    # Convertir la fecha a formato datetime\n",
    "    date = date.split(\" \")[0]\n",
    "    sentiment = df_tweets[df_tweets[\"Date\"] == date][\"Sentiment\"].values\n",
    "    if len(sentiment) > 0:\n",
    "        df_bitcoin.at[i, \"sentiment\"] = sentiment[0]\n",
    "    else:\n",
    "        df_bitcoin.at[i, \"sentiment\"] = None\n",
    "# Guardar el dataset de bitcoin con la columna de sentimiento\n",
    "df_bitcoin.to_csv(\"btc_sentiment.csv\", index=False)\n",
    "print(df_bitcoin.head())"
   ]
  },
  {
   "cell_type": "code",
   "execution_count": null,
   "id": "72f22057",
   "metadata": {},
   "outputs": [],
   "source": []
  },
  {
   "cell_type": "code",
   "execution_count": null,
   "id": "cf6580aa",
   "metadata": {},
   "outputs": [],
   "source": []
  }
 ],
 "metadata": {
  "kernelspec": {
   "display_name": "3.10.12",
   "language": "python",
   "name": "python3"
  },
  "language_info": {
   "codemirror_mode": {
    "name": "ipython",
    "version": 3
   },
   "file_extension": ".py",
   "mimetype": "text/x-python",
   "name": "python",
   "nbconvert_exporter": "python",
   "pygments_lexer": "ipython3",
   "version": "3.10.12"
  }
 },
 "nbformat": 4,
 "nbformat_minor": 5
}
