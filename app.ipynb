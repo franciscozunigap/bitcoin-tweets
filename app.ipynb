{
 "cells": [
  {
   "cell_type": "markdown",
   "id": "067d4f36",
   "metadata": {},
   "source": [
    "# Carga del dataset de tweets con sentimiento"
   ]
  },
  {
   "cell_type": "code",
   "execution_count": 126,
   "id": "c9bfa6a3",
   "metadata": {},
   "outputs": [
    {
     "name": "stderr",
     "output_type": "stream",
     "text": [
      "/var/folders/x7/yqjxlcpn6896ntpm60n8wg4r0000gn/T/ipykernel_52846/1207638233.py:7: DeprecationWarning: load_dataset is deprecated and will be removed in a future version.\n",
      "  df_tweets = kagglehub.load_dataset(\n"
     ]
    },
    {
     "name": "stdout",
     "output_type": "stream",
     "text": [
      "                Date                                               text  \\\n",
      "12750401  2019-08-10  ⚠️In case you were wondering if Bitcoin would ...   \n",
      "6500576   2019-06-08  Imagine someone predicting back in March that ...   \n",
      "1532247   2019-03-22  #Doviz\\n-------------------\\n#USD : 5.4740\\n#E...   \n",
      "17978827  2019-10-31  7 Keys to Overcoming Risk on the Path to Succe...   \n",
      "6929710   2019-06-17  @membrana_io @ABCC_Exchange @ProBit_Exchange h...   \n",
      "\n",
      "         Sentiment  \n",
      "12750401  Negative  \n",
      "6500576   Negative  \n",
      "1532247   Negative  \n",
      "17978827  Negative  \n",
      "6929710   Positive  \n"
     ]
    }
   ],
   "source": [
    "import kagglehub\n",
    "from kagglehub import KaggleDatasetAdapter\n",
    "\n",
    "file_path = \"mbsa.csv\"  \n",
    "\n",
    "# Load the latest version\n",
    "df_tweets = kagglehub.load_dataset(\n",
    "  KaggleDatasetAdapter.PANDAS,\n",
    "  \"gauravduttakiit/bitcoin-tweets-16m-tweets-with-sentiment-tagged\",\n",
    "  file_path,\n",
    ")\n",
    "\n",
    "# Eliminar columnas con Date antes de 2018\n",
    "df_tweets = df_tweets[df_tweets['Date'] >= '2018-01-01']\n",
    "# Eliminar columnas sin Date\n",
    "df_tweets = df_tweets.dropna(subset=['Date'])\n",
    "\n",
    "# Usar muestra de datos aleatoria de 1000 filas\n",
    "\n",
    "df_tweets = df_tweets.sample(n=1000, random_state=1)\n",
    "\n",
    "\n",
    "print(df_tweets.head())\n"
   ]
  },
  {
   "cell_type": "markdown",
   "id": "5401b05c",
   "metadata": {},
   "source": [
    "# Cargar de dataset de precios de bitcoin"
   ]
  },
  {
   "cell_type": "code",
   "execution_count": 127,
   "id": "c26ea70f",
   "metadata": {},
   "outputs": [
    {
     "name": "stderr",
     "output_type": "stream",
     "text": [
      "/var/folders/x7/yqjxlcpn6896ntpm60n8wg4r0000gn/T/ipykernel_52846/3152041267.py:3: DeprecationWarning: load_dataset is deprecated and will be removed in a future version.\n",
      "  df_bitcoin = kagglehub.load_dataset(\n"
     ]
    },
    {
     "name": "stdout",
     "output_type": "stream",
     "text": [
      "             Open time      Open      High       Low     Close      Volume  \\\n",
      "0  2018-01-01 00:00:00  13715.65  13715.65  13400.01  13556.15  123.616013   \n",
      "1  2018-01-01 00:15:00  13533.75  13550.87  13402.00  13521.12   98.136430   \n",
      "2  2018-01-01 00:30:00  13500.00  13545.37  13450.00  13470.41   79.904037   \n",
      "3  2018-01-01 00:45:00  13494.65  13690.87  13450.00  13529.01  141.699719   \n",
      "4  2018-01-01 01:00:00  13528.99  13571.74  13402.28  13445.63   72.537533   \n",
      "\n",
      "                Close time  Quote asset volume  Number of trades  \\\n",
      "0  2018-01-01 00:14:59.999        1.675545e+06              1572   \n",
      "1  2018-01-01 00:29:59.999        1.321757e+06              1461   \n",
      "2  2018-01-01 00:44:59.999        1.078825e+06              1000   \n",
      "3  2018-01-01 00:59:59.999        1.917783e+06              1195   \n",
      "4  2018-01-01 01:14:59.999        9.778198e+05               898   \n",
      "\n",
      "   Taker buy base asset volume  Taker buy quote asset volume  Ignore  \n",
      "0                    63.227133                  8.576108e+05       0  \n",
      "1                    47.686389                  6.422812e+05       0  \n",
      "2                    43.710406                  5.900347e+05       0  \n",
      "3                    73.897993                  1.000614e+06       0  \n",
      "4                    34.257652                  4.618369e+05       0  \n"
     ]
    }
   ],
   "source": [
    "file_path = \"btc_15m_data_2018_to_2025.csv\"  \n",
    "\n",
    "df_bitcoin = kagglehub.load_dataset(\n",
    "  KaggleDatasetAdapter.PANDAS,\n",
    "  \"novandraanugrah/bitcoin-historical-datasets-2018-2024\",\n",
    "  file_path,\n",
    ")\n",
    "\n",
    "print(df_bitcoin.head())"
   ]
  },
  {
   "cell_type": "markdown",
   "id": "fc2995da",
   "metadata": {},
   "source": [
    "# Asignacion de precio segun el dataset de bitcoin"
   ]
  },
  {
   "cell_type": "code",
   "execution_count": 128,
   "id": "4db6bbaf",
   "metadata": {
    "vscode": {
     "languageId": "ruby"
    }
   },
   "outputs": [
    {
     "name": "stdout",
     "output_type": "stream",
     "text": [
      "                Date                                               text  \\\n",
      "12750401  2019-08-10  ⚠️In case you were wondering if Bitcoin would ...   \n",
      "6500576   2019-06-08  Imagine someone predicting back in March that ...   \n",
      "1532247   2019-03-22  #Doviz\\n-------------------\\n#USD : 5.4740\\n#E...   \n",
      "17978827  2019-10-31  7 Keys to Overcoming Risk on the Path to Succe...   \n",
      "6929710   2019-06-17  @membrana_io @ABCC_Exchange @ProBit_Exchange h...   \n",
      "\n",
      "         Sentiment   Bitcoin  \n",
      "12750401  Negative  11917.06  \n",
      "6500576   Negative   8004.95  \n",
      "1532247   Negative   3975.49  \n",
      "17978827  Negative   9182.25  \n",
      "6929710   Positive   9015.74  \n"
     ]
    }
   ],
   "source": [
    "# Por cada fila en el dataset de bitcoin, se busca la fecha en el dataset de tweets\n",
    "# y se añade la columna de sentimiento al dataset de bitcoin\n",
    "import datetime as DateTime\n",
    "import pandas as pd\n",
    "\n",
    "\n",
    "\n",
    "# -- Cambio en el dataset de bitcoin ----\n",
    "\n",
    "# Convertir Open time a formato date.split(\" \")[0]\n",
    "df_bitcoin[\"Open time\"] = df_bitcoin[\"Open time\"].apply(lambda x: x.split(\" \")[0])\n",
    "\n",
    "# Eliminar fechas duplicadas en el dataset de bitcoin\n",
    "df_bitcoin = df_bitcoin.drop_duplicates(subset=[\"Open time\"])\n",
    "\n",
    "# Ordenar fecha de menor a mayor\n",
    "df_bitcoin = df_bitcoin.sort_values(by=[\"Open time\"])\n",
    "\n",
    "# -- Buscar precio para cada tweet ----\n",
    "\n",
    "bitcoin_prices = {}\n",
    "for index, row in df_bitcoin.iterrows():\n",
    "    bitcoin_prices[row['Open time']] = row['Close']\n",
    "\n",
    "df_tweets['Bitcoin'] = df_tweets['Date'].apply(lambda date: bitcoin_prices.get(date))\n",
    "\n",
    "print(df_tweets.head())"
   ]
  },
  {
   "cell_type": "code",
   "execution_count": 130,
   "id": "cf6580aa",
   "metadata": {},
   "outputs": [
    {
     "name": "stdout",
     "output_type": "stream",
     "text": [
      "Primeras 5 filas:\n",
      "                 Date                                               text  \\\n",
      "12750401  2019-08-10  ⚠️In case you were wondering if Bitcoin would ...   \n",
      "6500576   2019-06-08  Imagine someone predicting back in March that ...   \n",
      "1532247   2019-03-22  #Doviz\\n-------------------\\n#USD : 5.4740\\n#E...   \n",
      "17978827  2019-10-31  7 Keys to Overcoming Risk on the Path to Succe...   \n",
      "6929710   2019-06-17  @membrana_io @ABCC_Exchange @ProBit_Exchange h...   \n",
      "\n",
      "         Sentiment   Bitcoin  \n",
      "12750401  Negative  11917.06  \n",
      "6500576   Negative   8004.95  \n",
      "1532247   Negative   3975.49  \n",
      "17978827  Negative   9182.25  \n",
      "6929710   Positive   9015.74  \n",
      "<class 'pandas.core.frame.DataFrame'>\n",
      "Index: 1000 entries, 12750401 to 7980243\n",
      "Data columns (total 4 columns):\n",
      " #   Column     Non-Null Count  Dtype  \n",
      "---  ------     --------------  -----  \n",
      " 0   Date       1000 non-null   object \n",
      " 1   text       1000 non-null   object \n",
      " 2   Sentiment  961 non-null    object \n",
      " 3   Bitcoin    1000 non-null   float64\n",
      "dtypes: float64(1), object(3)\n",
      "memory usage: 39.1+ KB\n",
      "\n",
      "Información del dataset:\n",
      " None\n",
      "\n",
      "Estadísticas descriptivas:\n",
      "               Date                                               text  \\\n",
      "count         1000                                               1000   \n",
      "unique         238                                                906   \n",
      "top     2018-08-03  $EPAZ's Bitcoin Sharing &amp; Blockchain Socia...   \n",
      "freq            48                                                 39   \n",
      "mean           NaN                                                NaN   \n",
      "std            NaN                                                NaN   \n",
      "min            NaN                                                NaN   \n",
      "25%            NaN                                                NaN   \n",
      "50%            NaN                                                NaN   \n",
      "75%            NaN                                                NaN   \n",
      "max            NaN                                                NaN   \n",
      "\n",
      "       Sentiment       Bitcoin  \n",
      "count        961   1000.000000  \n",
      "unique         2           NaN  \n",
      "top     Negative           NaN  \n",
      "freq         520           NaN  \n",
      "mean         NaN   9136.176910  \n",
      "std          NaN   1792.158659  \n",
      "min          NaN   3452.040000  \n",
      "25%          NaN   7955.120000  \n",
      "50%          NaN   9193.210000  \n",
      "75%          NaN  10348.490000  \n",
      "max          NaN  14810.250000  \n",
      "\n",
      "Conteo de valores únicos en 'Sentiment':\n",
      " Sentiment\n",
      "Negative    520\n",
      "Positive    441\n",
      "Name: count, dtype: int64\n"
     ]
    }
   ],
   "source": [
    "\n",
    "# Información general\n",
    "print(\"Primeras 5 filas:\\n\", df_tweets.head())\n",
    "print(\"\\nInformación del dataset:\\n\", df_tweets.info())\n",
    "print(\"\\nEstadísticas descriptivas:\\n\", df_tweets.describe(include='all'))\n",
    "print(\"\\nConteo de valores únicos en 'Sentiment':\\n\", df_tweets['Sentiment'].value_counts())"
   ]
  }
 ],
 "metadata": {
  "kernelspec": {
   "display_name": "3.10.12",
   "language": "python",
   "name": "python3"
  },
  "language_info": {
   "codemirror_mode": {
    "name": "ipython",
    "version": 3
   },
   "file_extension": ".py",
   "mimetype": "text/x-python",
   "name": "python",
   "nbconvert_exporter": "python",
   "pygments_lexer": "ipython3",
   "version": "3.10.12"
  }
 },
 "nbformat": 4,
 "nbformat_minor": 5
}
