{
 "cells": [
  {
   "cell_type": "markdown",
   "id": "067d4f36",
   "metadata": {},
   "source": [
    "# Carga del dataset de tweets con sentimiento"
   ]
  },
  {
   "cell_type": "code",
   "execution_count": null,
   "id": "c9bfa6a3",
   "metadata": {},
   "outputs": [
    {
     "name": "stderr",
     "output_type": "stream",
     "text": [
      "/Users/usuario/.pyenv/versions/3.10.12/lib/python3.10/site-packages/tqdm/auto.py:21: TqdmWarning: IProgress not found. Please update jupyter and ipywidgets. See https://ipywidgets.readthedocs.io/en/stable/user_install.html\n",
      "  from .autonotebook import tqdm as notebook_tqdm\n",
      "/var/folders/x7/yqjxlcpn6896ntpm60n8wg4r0000gn/T/ipykernel_52846/2551903261.py:10: DeprecationWarning: load_dataset is deprecated and will be removed in a future version.\n",
      "  df = kagglehub.load_dataset(\n"
     ]
    },
    {
     "name": "stdout",
     "output_type": "stream",
     "text": [
      "         Date                                               text Sentiment\n",
      "0  2019-05-27  È appena uscito un nuovo video! LES CRYPTOMONN...  Positive\n",
      "1  2019-05-27  Cardano: Digitize Currencies; EOS https://t.co...  Positive\n",
      "2  2019-05-27  Another Test tweet that wasn't caught in the s...  Positive\n",
      "3  2019-05-27  Current Crypto Prices! \\n\\nBTC: $8721.99 USD\\n...  Positive\n",
      "4  2019-05-27  Spiv (Nosar Baz): BITCOIN Is An Asset &amp; NO...  Positive\n"
     ]
    }
   ],
   "source": [
    "import kagglehub\n",
    "from kagglehub import KaggleDatasetAdapter\n",
    "\n",
    "file_path = \"mbsa.csv\"  \n",
    "\n",
    "# Load the latest version\n",
    "df = kagglehub.load_dataset(\n",
    "  KaggleDatasetAdapter.PANDAS,\n",
    "  \"gauravduttakiit/bitcoin-tweets-16m-tweets-with-sentiment-tagged\",\n",
    "  file_path,\n",
    ")\n",
    "df.to_csv(file_path, index=False)\n",
    "print(df.head())\n"
   ]
  },
  {
   "cell_type": "markdown",
   "id": "5401b05c",
   "metadata": {},
   "source": [
    "# Cargar de dataset de precios de bitcoin"
   ]
  },
  {
   "cell_type": "code",
   "execution_count": null,
   "id": "c26ea70f",
   "metadata": {},
   "outputs": [
    {
     "name": "stderr",
     "output_type": "stream",
     "text": [
      "/var/folders/x7/yqjxlcpn6896ntpm60n8wg4r0000gn/T/ipykernel_52846/3097797794.py:10: DeprecationWarning: load_dataset is deprecated and will be removed in a future version.\n",
      "  df = kagglehub.load_dataset(\n"
     ]
    },
    {
     "name": "stdout",
     "output_type": "stream",
     "text": [
      "Downloading from https://www.kaggle.com/api/v1/datasets/download/novandraanugrah/bitcoin-historical-datasets-2018-2024?dataset_version_number=131&file_name=btc_15m_data_2018_to_2025.csv...\n"
     ]
    },
    {
     "name": "stderr",
     "output_type": "stream",
     "text": [
      "100%|██████████| 34.2M/34.2M [00:01<00:00, 22.4MB/s]\n"
     ]
    },
    {
     "name": "stdout",
     "output_type": "stream",
     "text": [
      "             Open time      Open      High       Low     Close      Volume  \\\n",
      "0  2018-01-01 00:00:00  13715.65  13715.65  13400.01  13556.15  123.616013   \n",
      "1  2018-01-01 00:15:00  13533.75  13550.87  13402.00  13521.12   98.136430   \n",
      "2  2018-01-01 00:30:00  13500.00  13545.37  13450.00  13470.41   79.904037   \n",
      "3  2018-01-01 00:45:00  13494.65  13690.87  13450.00  13529.01  141.699719   \n",
      "4  2018-01-01 01:00:00  13528.99  13571.74  13402.28  13445.63   72.537533   \n",
      "\n",
      "                Close time  Quote asset volume  Number of trades  \\\n",
      "0  2018-01-01 00:14:59.999        1.675545e+06              1572   \n",
      "1  2018-01-01 00:29:59.999        1.321757e+06              1461   \n",
      "2  2018-01-01 00:44:59.999        1.078825e+06              1000   \n",
      "3  2018-01-01 00:59:59.999        1.917783e+06              1195   \n",
      "4  2018-01-01 01:14:59.999        9.778198e+05               898   \n",
      "\n",
      "   Taker buy base asset volume  Taker buy quote asset volume  Ignore  \n",
      "0                    63.227133                  8.576108e+05       0  \n",
      "1                    47.686389                  6.422812e+05       0  \n",
      "2                    43.710406                  5.900347e+05       0  \n",
      "3                    73.897993                  1.000614e+06       0  \n",
      "4                    34.257652                  4.618369e+05       0  \n"
     ]
    }
   ],
   "source": [
    "file_path = \"btc_15m_data_2018_to_2025.csv\"  \n",
    "\n",
    "df = kagglehub.load_dataset(\n",
    "  KaggleDatasetAdapter.PANDAS,\n",
    "  \"novandraanugrah/bitcoin-historical-datasets-2018-2024\",\n",
    "  file_path,\n",
    ")\n",
    "\n",
    "df.to_csv(file_path, index=False)\n",
    "print(df.head())\n"
   ]
  },
  {
   "cell_type": "markdown",
   "id": "fc2995da",
   "metadata": {},
   "source": [
    "# Leer filas del dataset de tweets y asignarle el precio segun el dataset de bitcoin"
   ]
  },
  {
   "cell_type": "code",
   "execution_count": null,
   "id": "4db6bbaf",
   "metadata": {},
   "outputs": [],
   "source": []
  }
 ],
 "metadata": {
  "kernelspec": {
   "display_name": "3.10.12",
   "language": "python",
   "name": "python3"
  },
  "language_info": {
   "codemirror_mode": {
    "name": "ipython",
    "version": 3
   },
   "file_extension": ".py",
   "mimetype": "text/x-python",
   "name": "python",
   "nbconvert_exporter": "python",
   "pygments_lexer": "ipython3",
   "version": "3.10.12"
  }
 },
 "nbformat": 4,
 "nbformat_minor": 5
}
